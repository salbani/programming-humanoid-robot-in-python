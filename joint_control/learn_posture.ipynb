{
 "cells": [
  {
   "cell_type": "markdown",
   "metadata": {},
   "source": [
    "# Learn Posture"
   ]
  },
  {
   "cell_type": "markdown",
   "metadata": {},
   "source": [
    "use machine learning to recognize robot's posture (following the example in [scikit-learn-intro.ipynb](./scikit-learn-intro.ipynb) )"
   ]
  },
  {
   "cell_type": "markdown",
   "metadata": {},
   "source": [
    "## 1. Data collection\n",
    "\n",
    "We have colleceted data before, you need to add new data if you want to add new posture.\n",
    "\n",
    "* the dateset are in *robot_pose_data* folder\n",
    "* each file contains the data belongs to this posture, e.g. the data in *Back* file are collected when robot was in \"Back\" posture\n",
    "* the data file can be load by ```pickle```, e.g. ```pickle.load(open('Back'))```, the data is a list of feature data\n",
    "* the features (e.g. each row of the data) are ['LHipYawPitch', 'LHipRoll', 'LHipPitch', 'LKneePitch', 'RHipYawPitch', 'RHipRoll', 'RHipPitch', 'RKneePitch', 'AngleX', 'AngleY'], where 'AngleX' and 'AngleY' are body angle (e.g. ```Perception.imu```) and others are joint angles."
   ]
  },
  {
   "cell_type": "markdown",
   "metadata": {},
   "source": [
    "## 2. Data preprocessing"
   ]
  },
  {
   "cell_type": "code",
   "execution_count": 1,
   "metadata": {
    "collapsed": false
   },
   "outputs": [
    {
     "output_type": "stream",
     "name": "stdout",
     "text": [
      "Populating the interactive namespace from numpy and matplotlib\n"
     ]
    }
   ],
   "source": [
    "%pylab inline\n",
    "import pickle\n",
    "from os import listdir, path\n",
    "import numpy as np\n",
    "from sklearn import svm, metrics\n",
    "\n",
    "ROBOT_POSE_DATA_DIR = 'robot_pose_data'"
   ]
  },
  {
   "cell_type": "code",
   "execution_count": 2,
   "metadata": {
    "collapsed": false
   },
   "outputs": [
    {
     "output_type": "stream",
     "name": "stdout",
     "text": [
      "['Back', 'Belly', 'Crouch', 'Frog', 'HeadBack', 'Knee', 'Left', 'Right', 'Sit', 'Stand', 'StandInit']\n"
     ]
    }
   ],
   "source": [
    "classes = listdir(ROBOT_POSE_DATA_DIR)\n",
    "print(classes)"
   ]
  },
  {
   "cell_type": "code",
   "execution_count": 3,
   "metadata": {
    "collapsed": true
   },
   "outputs": [],
   "source": [
    "def load_pose_data(i):\n",
    "    '''load pose data from file'''\n",
    "    data = []\n",
    "    target = []\n",
    "    # YOUR CODE HERE\n",
    "    \n",
    "    filename = path.join(ROBOT_POSE_DATA_DIR, classes[i])\n",
    "    data = pickle.load(open(filename))\n",
    "    target = [i] * len(data)\n",
    "    return data, target"
   ]
  },
  {
   "cell_type": "code",
   "execution_count": 11,
   "metadata": {
    "collapsed": false
   },
   "outputs": [
    {
     "output_type": "stream",
     "name": "stdout",
     "text": [
      "('total number of data', 222)\n"
     ]
    }
   ],
   "source": [
    "# load all the data\n",
    "all_data = []\n",
    "all_target = []\n",
    "# YOUR CODE HERE\n",
    "for class_index in range(len(classes)):\n",
    "    data, target = load_pose_data(class_index)\n",
    "    all_data.extend(data)\n",
    "    all_target.extend(target)\n",
    "\n",
    "all_data = np.asarray(all_data)\n",
    "all_target = np.asarray(all_target)\n",
    "print('total number of data', len(all_data))"
   ]
  },
  {
   "cell_type": "code",
   "execution_count": 12,
   "metadata": {
    "collapsed": false
   },
   "outputs": [],
   "source": [
    "# shuffule data\n",
    "permutation = np.random.permutation(len(all_data))\n",
    "n_training_data = int(len(all_data) * 0.7)\n",
    "training_data = permutation[:n_training_data]\n",
    "test_data = permutation[n_training_data:]"
   ]
  },
  {
   "cell_type": "markdown",
   "metadata": {},
   "source": [
    "## 3. Learn on training data\n",
    "\n",
    "In scikit-learn, an estimator for classification is a Python object that implements the methods fit(X, y) and predict(T). An example of an estimator is the class sklearn.svm.SVC that implements support vector classification."
   ]
  },
  {
   "cell_type": "code",
   "execution_count": 13,
   "metadata": {
    "collapsed": false
   },
   "outputs": [],
   "source": [
    "clf = svm.SVC(gamma=0.001, C=100.)"
   ]
  },
  {
   "cell_type": "markdown",
   "metadata": {},
   "source": [
    "### learning"
   ]
  },
  {
   "cell_type": "code",
   "execution_count": 14,
   "metadata": {
    "collapsed": false
   },
   "outputs": [
    {
     "output_type": "execute_result",
     "data": {
      "text/plain": [
       "SVC(C=100.0, cache_size=200, class_weight=None, coef0=0.0,\n",
       "  decision_function_shape='ovr', degree=3, gamma=0.001, kernel='rbf',\n",
       "  max_iter=-1, probability=False, random_state=None, shrinking=True,\n",
       "  tol=0.001, verbose=False)"
      ]
     },
     "metadata": {},
     "execution_count": 14
    }
   ],
   "source": [
    "# YOUR CODE HERE\n",
    "clf.fit(all_data[training_data], all_target[training_data])"
   ]
  },
  {
   "source": [
    "### predicting"
   ],
   "cell_type": "markdown",
   "metadata": {}
  },
  {
   "cell_type": "code",
   "execution_count": 15,
   "metadata": {
    "collapsed": false
   },
   "outputs": [
    {
     "output_type": "execute_result",
     "data": {
      "text/plain": [
       "(array([10, 10, 10,  9,  3,  3, 10, 10,  2,  2,  0,  8,  3,  4,  4,  1, 10,\n",
       "         0, 10, 10,  7,  4, 10,  0, 10,  0,  0,  2,  9,  6, 10, 10,  5,  8,\n",
       "         1,  5,  6,  2,  1,  2,  2,  2,  8, 10,  6,  8,  5,  2,  1,  8,  5,\n",
       "         6,  2,  2,  6,  0,  6,  7,  9, 10,  9,  8,  8,  6,  1, 10, 10,  8,\n",
       "         8,  3,  2, 10,  3, 10,  6,  3,  2,  8,  8,  2,  5,  1,  2, 10, 10,\n",
       "         8,  8,  1,  3,  2, 10, 10,  8, 10,  1,  0,  7, 10,  0,  9,  9,  8,\n",
       "        10,  5, 10,  4,  6,  1,  6,  1,  6,  5,  0, 10,  7,  1, 10,  7,  6,\n",
       "         6,  1, 10,  2,  2,  2,  4,  2,  0, 10,  7,  9,  2, 10,  3,  1,  8,\n",
       "        10,  0, 10,  5,  5,  2,  1,  0,  2,  2,  2,  1,  0,  5, 10,  6, 10,\n",
       "        10,  8]),\n",
       " array([10, 10, 10,  9,  3,  3, 10, 10,  2,  2,  0,  8,  3,  4,  4,  1, 10,\n",
       "         0, 10, 10,  7,  4, 10,  0, 10,  0,  0,  2,  9,  6, 10, 10,  5,  8,\n",
       "         1,  5,  6,  2,  1,  2,  7,  2,  8, 10,  6,  8,  5,  2,  1,  8,  5,\n",
       "         6,  2,  2,  6,  0,  6,  7,  9, 10,  9,  8,  8,  6,  1, 10, 10,  8,\n",
       "         8,  3,  2, 10,  3, 10,  6,  3,  2,  8,  8,  2,  5,  1,  2, 10, 10,\n",
       "         8,  8,  1,  3,  2, 10, 10,  8, 10,  1,  0,  7, 10,  0,  9,  9,  8,\n",
       "        10,  5, 10,  4,  6,  1,  6,  1,  6,  5,  0, 10,  7,  1, 10,  7,  6,\n",
       "         6,  1, 10,  2,  2,  2,  4,  2,  0, 10,  7,  9,  2, 10,  3,  1,  8,\n",
       "        10,  0, 10,  5,  5,  2,  1,  0,  2,  2,  2,  1,  0,  5, 10,  6, 10,\n",
       "        10,  8]))"
      ]
     },
     "metadata": {},
     "execution_count": 15
    }
   ],
   "source": [
    "clf.predict(all_data[training_data]), all_target[training_data]"
   ]
  },
  {
   "cell_type": "code",
   "execution_count": 16,
   "metadata": {
    "collapsed": false
   },
   "outputs": [],
   "source": [
    "def evaluate(expected, predicted):\n",
    "    print(\"Classification report:\\n%s\\n\" % metrics.classification_report(expected, predicted))\n",
    "\n",
    "    print(\"Confusion matrix:\\n%s\" % metrics.confusion_matrix(expected, predicted))"
   ]
  },
  {
   "cell_type": "code",
   "execution_count": 17,
   "metadata": {
    "collapsed": false
   },
   "outputs": [
    {
     "output_type": "stream",
     "name": "stdout",
     "text": [
      "Classification report:\n              precision    recall  f1-score   support\n\n           0       1.00      1.00      1.00        13\n           1       1.00      1.00      1.00        15\n           2       0.96      1.00      0.98        23\n           3       1.00      1.00      1.00         8\n           4       1.00      1.00      1.00         5\n           5       1.00      1.00      1.00        10\n           6       1.00      1.00      1.00        14\n           7       1.00      0.86      0.92         7\n           8       1.00      1.00      1.00        17\n           9       1.00      1.00      1.00         7\n          10       1.00      1.00      1.00        36\n\n   micro avg       0.99      0.99      0.99       155\n   macro avg       1.00      0.99      0.99       155\nweighted avg       0.99      0.99      0.99       155\n\n\nConfusion matrix:\n[[13  0  0  0  0  0  0  0  0  0  0]\n [ 0 15  0  0  0  0  0  0  0  0  0]\n [ 0  0 23  0  0  0  0  0  0  0  0]\n [ 0  0  0  8  0  0  0  0  0  0  0]\n [ 0  0  0  0  5  0  0  0  0  0  0]\n [ 0  0  0  0  0 10  0  0  0  0  0]\n [ 0  0  0  0  0  0 14  0  0  0  0]\n [ 0  0  1  0  0  0  0  6  0  0  0]\n [ 0  0  0  0  0  0  0  0 17  0  0]\n [ 0  0  0  0  0  0  0  0  0  7  0]\n [ 0  0  0  0  0  0  0  0  0  0 36]]\n"
     ]
    }
   ],
   "source": [
    "\n",
    "expected = all_target[training_data]\n",
    "predicted = clf.predict(all_data[training_data])\n",
    "\n",
    "evaluate(expected, predicted)"
   ]
  },
  {
   "cell_type": "markdown",
   "metadata": {},
   "source": [
    "## 4. Evaluate on the test data"
   ]
  },
  {
   "cell_type": "code",
   "execution_count": 18,
   "metadata": {
    "collapsed": false
   },
   "outputs": [
    {
     "output_type": "stream",
     "name": "stdout",
     "text": [
      "Classification report:\n              precision    recall  f1-score   support\n\n           0       1.00      1.00      1.00        10\n           1       1.00      1.00      1.00         4\n           2       1.00      1.00      1.00         7\n           3       1.00      1.00      1.00         2\n           4       1.00      1.00      1.00         5\n           6       1.00      1.00      1.00         6\n           7       1.00      1.00      1.00         4\n           8       1.00      1.00      1.00         9\n           9       1.00      1.00      1.00         4\n          10       1.00      1.00      1.00        16\n\n   micro avg       1.00      1.00      1.00        67\n   macro avg       1.00      1.00      1.00        67\nweighted avg       1.00      1.00      1.00        67\n\n\nConfusion matrix:\n[[10  0  0  0  0  0  0  0  0  0]\n [ 0  4  0  0  0  0  0  0  0  0]\n [ 0  0  7  0  0  0  0  0  0  0]\n [ 0  0  0  2  0  0  0  0  0  0]\n [ 0  0  0  0  5  0  0  0  0  0]\n [ 0  0  0  0  0  6  0  0  0  0]\n [ 0  0  0  0  0  0  4  0  0  0]\n [ 0  0  0  0  0  0  0  9  0  0]\n [ 0  0  0  0  0  0  0  0  4  0]\n [ 0  0  0  0  0  0  0  0  0 16]]\n"
     ]
    }
   ],
   "source": [
    "\n",
    "expected = all_target[test_data]\n",
    "predicted = clf.predict(all_data[test_data])\n",
    "\n",
    "evaluate(expected, predicted)"
   ]
  },
  {
   "cell_type": "markdown",
   "metadata": {},
   "source": [
    "## 5. Deploy to the real system\n",
    "\n",
    "We can simple use `pickle` module to serialize the trained classifier."
   ]
  },
  {
   "cell_type": "code",
   "execution_count": 21,
   "metadata": {
    "collapsed": false
   },
   "outputs": [],
   "source": [
    "import pickle\n",
    "ROBOT_POSE_CLF = 'robot_pose.pkl'\n",
    "pickle.dump(clf, open(ROBOT_POSE_CLF, 'wb'))"
   ]
  },
  {
   "cell_type": "markdown",
   "metadata": {},
   "source": [
    "Then, in the application we can load the trained classifier again."
   ]
  },
  {
   "cell_type": "code",
   "execution_count": 22,
   "metadata": {
    "collapsed": false
   },
   "outputs": [
    {
     "output_type": "execute_result",
     "data": {
      "text/plain": [
       "(array([10]), 10)"
      ]
     },
     "metadata": {},
     "execution_count": 22
    }
   ],
   "source": [
    "clf2 = pickle.load(open(ROBOT_POSE_CLF, 'rb'))\n",
    "clf2.predict(all_data[-1].reshape(1, -1)), all_target[-1]"
   ]
  },
  {
   "cell_type": "code",
   "execution_count": null,
   "metadata": {
    "collapsed": true
   },
   "outputs": [],
   "source": []
  }
 ],
 "metadata": {
  "kernelspec": {
   "name": "python2718jvsc74a57bd043f82cd4cb96a440704902f5d6ad1c0a1208589500b37b572d871d157e2519a1",
   "display_name": "Python 2.7.18 64-bit ('Python27')"
  },
  "language_info": {
   "codemirror_mode": {
    "name": "ipython",
    "version": 2
   },
   "file_extension": ".py",
   "mimetype": "text/x-python",
   "name": "python",
   "nbconvert_exporter": "python",
   "pygments_lexer": "ipython2",
   "version": "2.7.18"
  },
  "widgets": {
   "state": {},
   "version": "1.0.0"
  },
  "metadata": {
   "interpreter": {
    "hash": "43f82cd4cb96a440704902f5d6ad1c0a1208589500b37b572d871d157e2519a1"
   }
  }
 },
 "nbformat": 4,
 "nbformat_minor": 0
}